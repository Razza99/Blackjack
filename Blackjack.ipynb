{
 "cells": [
  {
   "cell_type": "markdown",
   "metadata": {},
   "source": [
    "## Basic Blackjack"
   ]
  },
  {
   "cell_type": "code",
   "execution_count": 1,
   "metadata": {},
   "outputs": [],
   "source": [
    "import random\n",
    "from ipywidgets import *\n",
    "from IPython.display import display\n",
    "\n",
    "class Player(object):\n",
    "    def __init__(self, hand=[], hand_value=0, money=100, bet=10):\n",
    "        self.money = money\n",
    "        self.hand = []\n",
    "        self.bet = bet\n",
    "        self.hand_value = hand_value\n",
    "    \n",
    "    def add_money(self, amount):\n",
    "        self.money += amount\n",
    "        \n",
    "    def add_card(self,card):\n",
    "        self.hand.append(card)\n",
    "        if card in ['J', 'K', 'Q']:\n",
    "            self.hand_value +=10\n",
    "        elif card == 'A':\n",
    "            self.hand_value +=11\n",
    "        else:\n",
    "            self.hand_value += int(card)\n",
    "        if self.hand_value > 21 and 'A' in self.hand:\n",
    "            self.hand_value -= 10\n",
    "            for i in range(len(self.hand)):\n",
    "                if self.hand[i] == 'A':\n",
    "                    self.hand[i]='A*'\n",
    "                    break\n",
    "            \n",
    "    def win_bet(self,bool):\n",
    "        if bool:\n",
    "            self.add_money(self.bet)\n",
    "        else:\n",
    "            self.add_money(-self.bet)\n",
    "        print (\"You now have $ %s\" % self.money)\n",
    "    \n",
    "    def hand_reset(self):\n",
    "        self.hand = []\n",
    "        self.hand_value = 0\n",
    "            \n",
    "\n",
    "class Decks(object):\n",
    "    def __init__(self, num_decks=1):\n",
    "        self.num_decks=num_decks\n",
    "        self.deck = ['2','3','4','5','6','7','8','9','10','J','Q','K','A']*4*num_decks\n",
    "        \n",
    "    def deal_card(self,player):\n",
    "        c = random.choice(self.deck)\n",
    "        player.add_card(c)\n",
    "        self.deck.remove(c)\n",
    "        \n",
    "    def reset_deck(self):\n",
    "        self.deck = ['2','3','4','5','6','7','8','9','10','J','Q','K','A']*4*self.num_decks\n",
    "\n",
    "you = Player()\n",
    "dealer = Player()\n",
    "d = Decks()\n",
    "    \n",
    "def play_game(bet=10):\n",
    "\n",
    "    if bet > you.money:\n",
    "        print(\"You dont have enough to bet that much. $%s max\" % you.money)\n",
    "    else:\n",
    "\n",
    "        you.bet = bet\n",
    "        you.hand_reset()\n",
    "        dealer.hand_reset()\n",
    "        d.reset_deck()\n",
    "\n",
    "        print(\"You have $%s. Dealing a new hand...\" % you.money)\n",
    "        d.deal_card(you)\n",
    "        d.deal_card(you)\n",
    "        d.deal_card(dealer)\n",
    "        print(\"Your hand: %s with value %s\" % (you.hand, you.hand_value))\n",
    "        print(\"Dealer's hand: %s\" % dealer.hand)\n",
    "    #   print(\"Remaining deck %s\" % d.deck)\n",
    "\n",
    "     \n",
    "        stand = False\n",
    "        move = ''\n",
    "        while not stand:\n",
    "           \n",
    "            while move not in ['h','H','s','S']:\n",
    "                move = input(\"(h)it or (s)tand?\" )               \n",
    "\n",
    "                \n",
    "            if move in ['h','H']:\n",
    "                d.deal_card(you)\n",
    "                move = ''\n",
    "                print(\"Your hand: %s with value %s\" % (you.hand, you.hand_value))\n",
    "                if you.hand_value > 21:\n",
    "                    print('BUST! You lose!')\n",
    "                    you.win_bet(False)\n",
    "                    break\n",
    "            elif move in ['s','S']:\n",
    "                stand = True\n",
    "                while dealer.hand_value < 17:\n",
    "                    d.deal_card(dealer)\n",
    "                    print(\"Dealer's hand: %s with value %s\" % (dealer.hand, dealer.hand_value))\n",
    "                if dealer.hand_value > 21:\n",
    "                    print(\"dealer bust! you win!\")\n",
    "                    you.win_bet(True)\n",
    "                    break\n",
    "                else:\n",
    "                    print(\"Dealer stands. Score is you: %s to dealer: %s\" % (you.hand_value, dealer.hand_value))\n",
    "                    if you.hand_value > dealer.hand_value:\n",
    "                        print(\"you win!\")\n",
    "                        you.win_bet(True)\n",
    "                    elif you.hand_value < dealer.hand_value:\n",
    "                        print(\"you lose!\")\n",
    "                        you.win_bet(False)\n",
    "                    else:\n",
    "                        print(\"draw!\")\n",
    "\n",
    "                    \n",
    "                    "
   ]
  },
  {
   "cell_type": "code",
   "execution_count": 2,
   "metadata": {},
   "outputs": [
    {
     "name": "stdout",
     "output_type": "stream",
     "text": [
      "You have $100. Dealing a new hand...\n",
      "Your hand: ['6', 'A'] with value 17\n",
      "Dealer's hand: ['5']\n",
      "(h)it or (s)tand?h\n",
      "Your hand: ['6', 'A*', 'A'] with value 18\n",
      "(h)it or (s)tand?s\n",
      "Dealer's hand: ['5', 'J'] with value 15\n",
      "Dealer's hand: ['5', 'J', 'A*'] with value 16\n",
      "Dealer's hand: ['5', 'J', 'A*', '7'] with value 23\n",
      "dealer bust! you win!\n",
      "You now have $ 115\n"
     ]
    }
   ],
   "source": [
    "play_game(15)"
   ]
  },
  {
   "cell_type": "code",
   "execution_count": null,
   "metadata": {
    "collapsed": true
   },
   "outputs": [],
   "source": [
    "#Things to play with in future:"
   ]
  },
  {
   "cell_type": "code",
   "execution_count": 4,
   "metadata": {},
   "outputs": [
    {
     "data": {
      "application/vnd.jupyter.widget-view+json": {
       "model_id": "f3a3d17da7d748d38c15386d86107d78",
       "version_major": 2,
       "version_minor": 0
      },
      "text/plain": [
       "A Jupyter Widget"
      ]
     },
     "metadata": {},
     "output_type": "display_data"
    },
    {
     "data": {
      "application/vnd.jupyter.widget-view+json": {
       "model_id": "2e758c4a7eb54062b01a01185472e77f",
       "version_major": 2,
       "version_minor": 0
      },
      "text/plain": [
       "A Jupyter Widget"
      ]
     },
     "metadata": {},
     "output_type": "display_data"
    },
    {
     "data": {
      "application/vnd.jupyter.widget-view+json": {
       "model_id": "7f20e8f077fd4bcba7a827fb1f983a59",
       "version_major": 2,
       "version_minor": 0
      },
      "text/plain": [
       "A Jupyter Widget"
      ]
     },
     "metadata": {},
     "output_type": "display_data"
    },
    {
     "data": {
      "application/vnd.jupyter.widget-view+json": {
       "model_id": "cc867e518d684a37bf4b4c1dd24a75b7",
       "version_major": 2,
       "version_minor": 0
      },
      "text/plain": [
       "A Jupyter Widget"
      ]
     },
     "metadata": {},
     "output_type": "display_data"
    },
    {
     "name": "stdout",
     "output_type": "stream",
     "text": [
      "betting:  21\n",
      "hit\n",
      "hit\n",
      "stand\n"
     ]
    }
   ],
   "source": [
    "betw = IntSlider()\n",
    "playw = widgets.Button(description=\"play\")\n",
    "hitw = widgets.Button(description=\"Hit\")\n",
    "standw = widgets.Button(description=\"Stand\") \n",
    "    \n",
    "def play(b):\n",
    "    print('betting: ',betw.value)\n",
    "    playw.close()\n",
    "def hitting(b):\n",
    "    print('hit')\n",
    "def standing(b):\n",
    "    print('stand')\n",
    "\n",
    "display(betw, playw, hitw, standw)\n",
    "playw.on_click(play)\n",
    "hitw.on_click(hitting)\n",
    "standw.on_click(standing)"
   ]
  },
  {
   "cell_type": "code",
   "execution_count": null,
   "metadata": {
    "collapsed": true
   },
   "outputs": [],
   "source": []
  }
 ],
 "metadata": {
  "kernelspec": {
   "display_name": "Python 3",
   "language": "python",
   "name": "python3"
  },
  "language_info": {
   "codemirror_mode": {
    "name": "ipython",
    "version": 3
   },
   "file_extension": ".py",
   "mimetype": "text/x-python",
   "name": "python",
   "nbconvert_exporter": "python",
   "pygments_lexer": "ipython3",
   "version": "3.6.4"
  }
 },
 "nbformat": 4,
 "nbformat_minor": 2
}
